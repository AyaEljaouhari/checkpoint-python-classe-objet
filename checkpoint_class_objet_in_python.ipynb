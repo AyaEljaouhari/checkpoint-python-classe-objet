{
  "nbformat": 4,
  "nbformat_minor": 0,
  "metadata": {
    "colab": {
      "provenance": []
    },
    "kernelspec": {
      "name": "python3",
      "display_name": "Python 3"
    },
    "language_info": {
      "name": "python"
    }
  },
  "cells": [
    {
      "cell_type": "code",
      "execution_count": null,
      "metadata": {
        "id": "KJIlb3LBvzHe"
      },
      "outputs": [],
      "source": [
        "\"\"\"Write a Python class named Point3D defined by x, y, and z. Define a method that returns (x, y ,z).\n",
        " This tells Python to represent this object in the following format: (x, y, z). \n",
        "Then create a variable named my_point containing a new instance of Point3D with x=1, y=2, and z=3 and print it.\"\"\""
      ]
    },
    {
      "cell_type": "code",
      "source": [
        "class Point3D:\n",
        "  def __init__(self,x,y,z):\n",
        "    self.x=x\n",
        "    self.y=y\n",
        "    self.z=z\n",
        "\n",
        "  def affichage(self):\n",
        "    return\"x={},y={},z={}\".format(self.x,self.y,self.z)\n",
        "\n",
        "my_point=Point3D(1,2,3)\n",
        "print(my_point.affichage())"
      ],
      "metadata": {
        "id": "TMVZhUNmwAqW",
        "colab": {
          "base_uri": "https://localhost:8080/"
        },
        "outputId": "003c6c9c-6b2c-4b28-f44d-5017685a7da8"
      },
      "execution_count": null,
      "outputs": [
        {
          "output_type": "stream",
          "name": "stdout",
          "text": [
            "x=1,y=2,z=3\n"
          ]
        }
      ]
    },
    {
      "cell_type": "code",
      "source": [
        "\"\"\"Write a Python class named Rectangle constructed by a length and width. \n",
        "Define two methods, area and perimeter, which will compute the area and the perimeter of the rectangle. \n",
        "Then create a variable named my_rectangle containing a new instance of Rectangle with width=3 and length = 4 and compute both area and perimeter\n",
        " ( the area is expected to be 3*4=12 and perimeter 2*(3+4)=14).\"\"\""
      ],
      "metadata": {
        "id": "zWXj8npt3miV"
      },
      "execution_count": null,
      "outputs": []
    },
    {
      "cell_type": "code",
      "source": [
        "\n",
        "class Rectangle:\n",
        "  def __init__(self,length,width):\n",
        "    self.length=length\n",
        "    self.width=width \n",
        "    \n",
        "  def perimetre(self):\n",
        "    return\"perimetre={}\".format(2*(self.length+ self.width))\n",
        "      \n",
        "  def area(self):\n",
        "    return\"area={}\".format(self.length*self.width)\n",
        "\n",
        "my_rectangle=Rectangle(3,4)\n",
        "\n",
        "print(my_rectangle.perimetre())\n",
        "print(my_rectangle.area())\n",
        "\n"
      ],
      "metadata": {
        "colab": {
          "base_uri": "https://localhost:8080/"
        },
        "id": "0TBb47LM38hV",
        "outputId": "54f1a324-fdf3-42bf-b5cd-e6b6ca552ff7"
      },
      "execution_count": null,
      "outputs": [
        {
          "output_type": "stream",
          "name": "stdout",
          "text": [
            "perimetre=14\n",
            "area=12\n"
          ]
        }
      ]
    },
    {
      "cell_type": "code",
      "source": [
        "\"\"\"Write a Python  class named Circle constructed by its center O and radius r.\n",
        " Define two methods, area and perimeter, which will compute the area and the perimeter of the circle,\n",
        " and is Inside() method which allows you to test whether a point A(x, y) belongs to the circle C(O, r) or not.\"\"\""
      ],
      "metadata": {
        "id": "U0GYoEep9PVz"
      },
      "execution_count": null,
      "outputs": []
    },
    {
      "cell_type": "code",
      "source": [
        "import math\n",
        "class Circle:\n",
        "  def __init__(self,x_cir,y_cir,radius):\n",
        "    self.x_cir=x_cir\n",
        "    self.y_cir=y_cir\n",
        "    self.radius=radius\n",
        "\n",
        "  def perimetre(self):\n",
        "    return\"perimetre={}\".format(2*math.pi*self.radius)\n",
        "  \n",
        "  def area(self):\n",
        "    return\"area={}\".format(3.14*self.radius*self.radius)\n",
        "\n",
        "  def isInside(self,x,y):\n",
        "    if (x-self.x_cir)**2+(y-self.y_cir)**2<=self.radius**2:\n",
        "      return True\n",
        "    else:\n",
        "      return False\n",
        "\n",
        "\n",
        "my_circle=Circle(5,5,6)  \n",
        "  \n",
        "print(my_circle.perimetre())\n",
        "print(my_circle.area())\n",
        "if my_circle.isInside(3,4)==True:\n",
        "  print(\"A is Inside\")\n",
        "else:\n",
        "  print(\"A is outside\")\n",
        "\n",
        "  \n"
      ],
      "metadata": {
        "id": "tM-oQ-779e9Q",
        "colab": {
          "base_uri": "https://localhost:8080/"
        },
        "outputId": "0311ea8f-80ec-442b-bf8f-6c1da39e761f"
      },
      "execution_count": 20,
      "outputs": [
        {
          "output_type": "stream",
          "name": "stdout",
          "text": [
            "perimetre=37.69911184307752\n",
            "area=113.03999999999999\n",
            "A is Inside\n"
          ]
        }
      ]
    },
    {
      "cell_type": "code",
      "source": [
        "\"\"\"Suppose we want to model a bank account with support for deposit and withdraw operations. \n",
        "Let’s create a Python class named Bank defined by its balance. \n",
        "Define two methods, deposit and withdraw, to compute the new amount of each operation\"\"\""
      ],
      "metadata": {
        "id": "rM9vDvC7Hz6a"
      },
      "execution_count": null,
      "outputs": []
    },
    {
      "cell_type": "code",
      "source": [
        "class Bank:\n",
        "  def __init__(self,balance):\n",
        "    self.balance=balance\n",
        "\n",
        "  def deposit(self,deposit):\n",
        "    return self.balance+ deposit\n",
        "\n",
        "  def withdraw(self,withdraw):\n",
        "    return self.balance+ withdraw\n",
        "  \n",
        "my_bank=Bank(4)\n",
        "print(my_bank.deposit(2))\n",
        "print(my_bank.withdraw(5))\n"
      ],
      "metadata": {
        "colab": {
          "base_uri": "https://localhost:8080/"
        },
        "id": "sHZzJLioH8wW",
        "outputId": "fd11ef8b-04f9-440b-b323-5643310c2f5a"
      },
      "execution_count": 21,
      "outputs": [
        {
          "output_type": "stream",
          "name": "stdout",
          "text": [
            "6\n",
            "9\n"
          ]
        }
      ]
    }
  ]
}